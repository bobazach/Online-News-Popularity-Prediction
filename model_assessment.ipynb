{
 "cells": [
  {
   "cell_type": "code",
   "execution_count": 5,
   "metadata": {},
   "outputs": [],
   "source": [
    "import pandas as pd\n",
    "import matplotlib.pyplot as plt\n",
    "\n",
    "from sklearn.linear_model import LogisticRegression, SGDClassifier, RidgeClassifier\n",
    "from sklearn.neighbors import KNeighborsClassifier\n",
    "from sklearn.svm import SVC\n",
    "from sklearn.tree import DecisionTreeClassifier\n",
    "from sklearn.ensemble import RandomForestClassifier, GradientBoostingClassifier, AdaBoostClassifier\n",
    "from sklearn.naive_bayes import GaussianNB\n",
    "\n",
    "from sklearn.model_selection import train_test_split\n",
    "from sklearn.metrics import accuracy_score"
   ]
  },
  {
   "cell_type": "code",
   "execution_count": 6,
   "metadata": {},
   "outputs": [],
   "source": [
    "news_df = pd.read_csv('data/news_classification.csv')\n",
    "xFeat = news_df.drop('high_popularity', axis=1)\n",
    "y = news_df['high_popularity']\n",
    "xTrain, xTest, yTrain, yTest = train_test_split(xFeat, y, test_size=0.3, random_state=42)"
   ]
  },
  {
   "cell_type": "code",
   "execution_count": 9,
   "metadata": {},
   "outputs": [
    {
     "name": "stderr",
     "output_type": "stream",
     "text": [
      "/Users/zachcheng/opt/anaconda3/envs/CS334/lib/python3.11/site-packages/sklearn/linear_model/_logistic.py:458: ConvergenceWarning: lbfgs failed to converge (status=1):\n",
      "STOP: TOTAL NO. of ITERATIONS REACHED LIMIT.\n",
      "\n",
      "Increase the number of iterations (max_iter) or scale the data as shown in:\n",
      "    https://scikit-learn.org/stable/modules/preprocessing.html\n",
      "Please also refer to the documentation for alternative solver options:\n",
      "    https://scikit-learn.org/stable/modules/linear_model.html#logistic-regression\n",
      "  n_iter_i = _check_optimize_result(\n"
     ]
    },
    {
     "name": "stdout",
     "output_type": "stream",
     "text": [
      "LogisticRegression: 0.657677333586554\n",
      "SGDClassifier: 0.5820909695185642\n",
      "RidgeClassifier: 0.6957553888519609\n",
      "KNeighborsClassifier: 0.6367866299496724\n",
      "SVC: 0.6625201785205583\n",
      "DecisionTreeClassifier: 0.6119077010730225\n",
      "RandomForestClassifier: 0.6948058114139208\n",
      "GradientBoostingClassifier: 0.7120881207862502\n",
      "AdaBoostClassifier: 0.7040167125629095\n",
      "GaussianNB: 0.6662235305289146\n"
     ]
    }
   ],
   "source": [
    "# Baseline classification accuracies\n",
    "models = [\n",
    "    LogisticRegression(),\n",
    "    SGDClassifier(),\n",
    "    RidgeClassifier(),\n",
    "    KNeighborsClassifier(),\n",
    "    SVC(),\n",
    "    DecisionTreeClassifier(),\n",
    "    RandomForestClassifier(),\n",
    "    GradientBoostingClassifier(),\n",
    "    AdaBoostClassifier(),\n",
    "    GaussianNB(),\n",
    "]\n",
    "\n",
    "accuracies = []\n",
    "for model in models:\n",
    "    model.fit(xTrain, yTrain)\n",
    "    y_pred = model.predict(xTest)\n",
    "    accuracy = accuracy_score(yTest, y_pred)\n",
    "    accuracies.append((model.__class__.__name__, accuracy))\n",
    "\n",
    "for model_name, accuracy in accuracies:\n",
    "    print(f\"{model_name}: {accuracy}\")"
   ]
  },
  {
   "cell_type": "code",
   "execution_count": null,
   "metadata": {},
   "outputs": [],
   "source": []
  }
 ],
 "metadata": {
  "interpreter": {
   "hash": "ebd4ea250afcc684eca67ce196bf24fba9ea1d4cef62c00847b971392f86669c"
  },
  "kernelspec": {
   "display_name": "Python 3.11.4 64-bit ('CS334': conda)",
   "language": "python",
   "name": "python3"
  },
  "language_info": {
   "codemirror_mode": {
    "name": "ipython",
    "version": 3
   },
   "file_extension": ".py",
   "mimetype": "text/x-python",
   "name": "python",
   "nbconvert_exporter": "python",
   "pygments_lexer": "ipython3",
   "version": "3.11.4"
  },
  "orig_nbformat": 4
 },
 "nbformat": 4,
 "nbformat_minor": 2
}
